{
 "cells": [
  {
   "cell_type": "markdown",
   "metadata": {},
   "source": [
    "### datetime 패키지\n",
    "날짜 및 시간을 관리하는 datetime ㅋㄹ래스와 날짜를 관리하는 date 클래스, 시간을 관리하는 time 클래스,  \n",
    "시간을 구간을 나타낸timedelta클래스로 구성된 패키지"
   ]
  },
  {
   "cell_type": "code",
   "execution_count": 3,
   "metadata": {},
   "outputs": [],
   "source": [
    "import datetime as dt"
   ]
  },
  {
   "cell_type": "code",
   "execution_count": 7,
   "metadata": {},
   "outputs": [
    {
     "data": {
      "text/plain": [
       "datetime.datetime(2024, 7, 19, 12, 13, 41, 679823)"
      ]
     },
     "execution_count": 7,
     "metadata": {},
     "output_type": "execute_result"
    }
   ],
   "source": [
    "# datetime 패키지의 datetime 클래스\n",
    "# now() 메서드 : 현재 시간에 해당하는 인스턴스를 반환\n",
    "now = dt.datetime.now()\n",
    "now"
   ]
  },
  {
   "cell_type": "code",
   "execution_count": 11,
   "metadata": {},
   "outputs": [
    {
     "data": {
      "text/plain": [
       "(2024, 7, 19, 12)"
      ]
     },
     "execution_count": 11,
     "metadata": {},
     "output_type": "execute_result"
    }
   ],
   "source": [
    "#datetime 인스턴스는 year, month,hour,minute,second, microsecond속성을 가지고 있음\n",
    "\n",
    "now.year, now.month, now.day, now.hour"
   ]
  },
  {
   "cell_type": "code",
   "execution_count": 12,
   "metadata": {},
   "outputs": [
    {
     "data": {
      "text/plain": [
       "4"
      ]
     },
     "execution_count": 12,
     "metadata": {},
     "output_type": "execute_result"
    }
   ],
   "source": [
    "#datetime 인스턴스의 메서드 weekday()로 요일을 반환 ( 0: 월 6: 일)\n",
    "now.weekday()"
   ]
  },
  {
   "cell_type": "code",
   "execution_count": null,
   "metadata": {},
   "outputs": [],
   "source": [
    "#datetime 인스턴스의 strftime()메서드로 시간을 지정한 포멧의 문자열로 변경\n",
    "# %Y : 4자리연도, %m : 2자리 월 ,%d : 2자리 일 %H : 24시간으로 시간\n",
    "# %I : 1시간으로 표현되는 시간 %p : 오전 오후 %M : 2자리 분 %s : 2자리 초"
   ]
  },
  {
   "cell_type": "code",
   "execution_count": 13,
   "metadata": {},
   "outputs": [
    {
     "data": {
      "text/plain": [
       "'2024'"
      ]
     },
     "execution_count": 13,
     "metadata": {},
     "output_type": "execute_result"
    }
   ],
   "source": [
    "now.strftime(\"%Y\")"
   ]
  },
  {
   "cell_type": "markdown",
   "metadata": {},
   "source": [
    "### dateutil 패키지\n",
    "dateutil 패키지의 하위 패키지 parser의 parse메서드로 문자열을 \n",
    "손쉽게 datetime 인스턴스로 변경이 가능\n",
    "\n"
   ]
  },
  {
   "cell_type": "code",
   "execution_count": 15,
   "metadata": {},
   "outputs": [],
   "source": [
    "from dateutil.parser import parse"
   ]
  },
  {
   "cell_type": "code",
   "execution_count": 16,
   "metadata": {},
   "outputs": [
    {
     "data": {
      "text/plain": [
       "datetime.datetime(2024, 7, 19, 12, 24)"
      ]
     },
     "execution_count": 16,
     "metadata": {},
     "output_type": "execute_result"
    }
   ],
   "source": [
    "parse('2024-07-19 12:24')"
   ]
  },
  {
   "cell_type": "code",
   "execution_count": null,
   "metadata": {},
   "outputs": [],
   "source": [
    "#날짜에 대한 차이를 구하고자 할때 datetime 인스턴스 간데 '-' 연간을 수행 할 수 있음\n",
    "#연산결과는 timedelta 인스턴스로 반환됨"
   ]
  },
  {
   "cell_type": "code",
   "execution_count": 17,
   "metadata": {},
   "outputs": [
    {
     "data": {
      "text/plain": [
       "datetime.timedelta(days=10, seconds=12481, microseconds=244169)"
      ]
     },
     "execution_count": 17,
     "metadata": {},
     "output_type": "execute_result"
    }
   ],
   "source": [
    "start = parse('2024-07-09 09:00')\n",
    "now = dt.datetime.now();\n",
    "gap = now -start\n",
    "gap"
   ]
  },
  {
   "cell_type": "code",
   "execution_count": 19,
   "metadata": {},
   "outputs": [
    {
     "data": {
      "text/plain": [
       "(10, 12481, 244169)"
      ]
     },
     "execution_count": 19,
     "metadata": {},
     "output_type": "execute_result"
    }
   ],
   "source": [
    "gap.days, gap.seconds, gap.microseconds"
   ]
  },
  {
   "cell_type": "code",
   "execution_count": 21,
   "metadata": {},
   "outputs": [
    {
     "data": {
      "text/plain": [
       "876481.244169"
      ]
     },
     "execution_count": 21,
     "metadata": {},
     "output_type": "execute_result"
    }
   ],
   "source": [
    "gap.total_seconds()"
   ]
  },
  {
   "cell_type": "markdown",
   "metadata": {},
   "source": [
    "### time 패키지\n",
    "time 패키지의 sleep 메서드를 사용하여 지정한 초만큼 프로세스를 일시정지 할 수 있음"
   ]
  },
  {
   "cell_type": "code",
   "execution_count": 22,
   "metadata": {},
   "outputs": [
    {
     "name": "stdout",
     "output_type": "stream",
     "text": [
      "5\n",
      "4\n",
      "3\n",
      "2\n",
      "1\n",
      "끝\n"
     ]
    }
   ],
   "source": [
    "import time\n",
    "\n",
    "print(5)\n",
    "time.sleep(1)\n",
    "print(4)\n",
    "time.sleep(1)\n",
    "print(3)\n",
    "time.sleep(1)\n",
    "print(2)\n",
    "time.sleep(1)\n",
    "print(1)\n",
    "time.sleep(1)\n",
    "print('끝')"
   ]
  }
 ],
 "metadata": {
  "kernelspec": {
   "display_name": "Python 3",
   "language": "python",
   "name": "python3"
  },
  "language_info": {
   "codemirror_mode": {
    "name": "ipython",
    "version": 3
   },
   "file_extension": ".py",
   "mimetype": "text/x-python",
   "name": "python",
   "nbconvert_exporter": "python",
   "pygments_lexer": "ipython3",
   "version": "3.12.4"
  }
 },
 "nbformat": 4,
 "nbformat_minor": 2
}
